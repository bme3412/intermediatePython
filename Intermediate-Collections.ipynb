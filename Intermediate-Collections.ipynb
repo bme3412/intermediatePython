{
 "cells": [
  {
   "cell_type": "markdown",
   "id": "2c6e5256-cdfa-40f0-baa6-24d487b5fc0c",
   "metadata": {},
   "source": [
    "#### 1. `namedtuple`"
   ]
  },
  {
   "cell_type": "markdown",
   "id": "f3eeef36-bae3-4ad9-82b9-4b3221e464ae",
   "metadata": {},
   "source": [
    "A `namedtuple` is a tuple subclass that allows to access its elements by name instead of position index, making the code more readable"
   ]
  },
  {
   "cell_type": "code",
   "execution_count": 1,
   "id": "f5bd3781-56ec-409e-9124-ce7cf1f123bf",
   "metadata": {},
   "outputs": [],
   "source": [
    "from collections import namedtuple\n",
    "\n",
    "# define a namedtuple type called 'Point'\n",
    "Point = namedtuple('Point',['x','y'])"
   ]
  },
  {
   "cell_type": "code",
   "execution_count": 2,
   "id": "d29b9458-1210-4f70-8c90-62e395250e70",
   "metadata": {},
   "outputs": [
    {
     "name": "stdout",
     "output_type": "stream",
     "text": [
      "10\n",
      "20\n"
     ]
    }
   ],
   "source": [
    "# create a Point instance\n",
    "p = Point(10,20)\n",
    "\n",
    "# access the elements\n",
    "print(p.x)\n",
    "print(p.y)"
   ]
  },
  {
   "cell_type": "code",
   "execution_count": 3,
   "id": "a81894fe-1e88-4638-8669-d7bc9919b7fe",
   "metadata": {},
   "outputs": [
    {
     "name": "stdout",
     "output_type": "stream",
     "text": [
      "{'x': 10, 'y': 20}\n"
     ]
    }
   ],
   "source": [
    "# convert to dictionary\n",
    "print(p._asdict())"
   ]
  },
  {
   "cell_type": "markdown",
   "id": "b0a1af6d-3997-4093-ae58-cbc2cbe025ab",
   "metadata": {},
   "source": [
    "### 2. `deque`"
   ]
  },
  {
   "cell_type": "markdown",
   "id": "6cdb29f1-0d46-46f9-9ac6-635b2d25516d",
   "metadata": {},
   "source": [
    "A `deque` (double-ended queue) is a generalization of stacks and queues that supports fast appends and pops from both ends"
   ]
  },
  {
   "cell_type": "code",
   "execution_count": 5,
   "id": "6824b828-8b5a-4b04-8300-5f19f5d2bca9",
   "metadata": {},
   "outputs": [
    {
     "name": "stdout",
     "output_type": "stream",
     "text": [
      "deque([1, 2, 3, 4, 5, 6])\n"
     ]
    }
   ],
   "source": [
    "from collections import deque\n",
    "\n",
    "# create a deque\n",
    "d = deque([1,2,3,4,5])\n",
    "\n",
    "# append to the right\n",
    "d.append(6)\n",
    "print(d)"
   ]
  },
  {
   "cell_type": "code",
   "execution_count": 6,
   "id": "bf7f198f-46d3-4b1e-80ac-d37e85e5f405",
   "metadata": {},
   "outputs": [
    {
     "name": "stdout",
     "output_type": "stream",
     "text": [
      "deque([0, 1, 2, 3, 4, 5, 6])\n"
     ]
    }
   ],
   "source": [
    "# append to the left\n",
    "d.appendleft(0)\n",
    "print(d)"
   ]
  },
  {
   "cell_type": "code",
   "execution_count": 7,
   "id": "32606829-303b-4863-a0fe-1b2fe3f99d1c",
   "metadata": {},
   "outputs": [
    {
     "name": "stdout",
     "output_type": "stream",
     "text": [
      "deque([0, 1, 2, 3, 4, 5])\n"
     ]
    }
   ],
   "source": [
    "# pop from the right\n",
    "d.pop()\n",
    "print(d)"
   ]
  },
  {
   "cell_type": "code",
   "execution_count": 8,
   "id": "0820f990-f32a-4280-90e4-d2966034c750",
   "metadata": {},
   "outputs": [
    {
     "name": "stdout",
     "output_type": "stream",
     "text": [
      "deque([1, 2, 3, 4, 5])\n"
     ]
    }
   ],
   "source": [
    "# pop from the left\n",
    "d.popleft()\n",
    "print(d)"
   ]
  },
  {
   "cell_type": "markdown",
   "id": "605ce55c-a5bd-4f29-96bd-7de27034980c",
   "metadata": {},
   "source": [
    "### 3. `Counter`"
   ]
  },
  {
   "cell_type": "markdown",
   "id": "80fddf98-acb5-4d9c-b523-6ab9cc08f37a",
   "metadata": {},
   "source": [
    "A `counter` is a dictionary subclass designed for counting hashable objects. It's an unordered collection where elements are stored as dictionary keys and their counts as dictionary values "
   ]
  },
  {
   "cell_type": "code",
   "execution_count": 9,
   "id": "ae88b2e8-86e2-4f5a-a4dd-e6ec33e1823a",
   "metadata": {},
   "outputs": [
    {
     "name": "stdout",
     "output_type": "stream",
     "text": [
      "Counter({'a': 5, 'b': 2, 'r': 2, 'c': 1, 'd': 1})\n",
      "5\n",
      "2\n"
     ]
    }
   ],
   "source": [
    "from collections import Counter\n",
    "\n",
    "# create a Counter\n",
    "c = Counter('abracadabra')\n",
    "\n",
    "# count the elements\n",
    "print(c)\n",
    "\n",
    "# access counts\n",
    "\n",
    "print(c['a'])\n",
    "print(c['b'])\n"
   ]
  },
  {
   "cell_type": "code",
   "execution_count": 11,
   "id": "69f45775-b910-47fa-8c72-6c95e4605d1c",
   "metadata": {},
   "outputs": [
    {
     "name": "stdout",
     "output_type": "stream",
     "text": [
      "Counter({'a': 13, 'z': 6, 'b': 2, 'r': 2, 'c': 1, 'd': 1})\n"
     ]
    }
   ],
   "source": [
    "# update counts\n",
    "c.update('aaaazzz')\n",
    "print(c)"
   ]
  },
  {
   "cell_type": "code",
   "execution_count": 12,
   "id": "1948babd-a32a-414b-92c1-31f0c9604135",
   "metadata": {},
   "outputs": [
    {
     "name": "stdout",
     "output_type": "stream",
     "text": [
      "[('a', 13), ('z', 6)]\n"
     ]
    }
   ],
   "source": [
    "# get the most common elements\n",
    "print(c.most_common(2))"
   ]
  },
  {
   "cell_type": "markdown",
   "id": "132920e6-56f6-4730-97d7-e933896b5eaf",
   "metadata": {},
   "source": [
    "### 4. `defaultdict`"
   ]
  },
  {
   "cell_type": "markdown",
   "id": "fc1fd2da-b223-4bca-b841-8159b403fa1a",
   "metadata": {},
   "source": [
    "A `defaultdict` is a dictionary subclass that calls a factory fucnction to supply missing values - helps to avoid key errors"
   ]
  },
  {
   "cell_type": "code",
   "execution_count": 13,
   "id": "309cf0fb-2e07-48b7-8952-cbd5626dc061",
   "metadata": {},
   "outputs": [
    {
     "name": "stdout",
     "output_type": "stream",
     "text": [
      "defaultdict(<class 'int'>, {'a': 1, 'b': 2})\n"
     ]
    }
   ],
   "source": [
    "from collections import defaultdict\n",
    "\n",
    "# create a defaultdict with a default factory of int (0)\n",
    "dd= defaultdict(int)\n",
    "\n",
    "# access and modify elements\n",
    "dd['a'] += 1\n",
    "dd['b'] += 2\n",
    "print(dd)"
   ]
  },
  {
   "cell_type": "code",
   "execution_count": 14,
   "id": "61180818-cf6f-48d7-92d2-169cbdfd2dc5",
   "metadata": {},
   "outputs": [
    {
     "name": "stdout",
     "output_type": "stream",
     "text": [
      "defaultdict(<class 'list'>, {'a': [1, 2], 'b': [3]})\n"
     ]
    }
   ],
   "source": [
    "# create a defaultdict with a list factory\n",
    "dd_list = defaultdict(list)\n",
    "\n",
    "# append values to the list\n",
    "dd_list['a'].append(1)\n",
    "dd_list['a'].append(2)\n",
    "dd_list['b'].append(3)\n",
    "\n",
    "print(dd_list)"
   ]
  },
  {
   "cell_type": "code",
   "execution_count": null,
   "id": "7bc1e689-dd6b-4d9e-b490-73dd043788c9",
   "metadata": {},
   "outputs": [],
   "source": []
  }
 ],
 "metadata": {
  "kernelspec": {
   "display_name": "Python 3 (ipykernel)",
   "language": "python",
   "name": "python3"
  },
  "language_info": {
   "codemirror_mode": {
    "name": "ipython",
    "version": 3
   },
   "file_extension": ".py",
   "mimetype": "text/x-python",
   "name": "python",
   "nbconvert_exporter": "python",
   "pygments_lexer": "ipython3",
   "version": "3.10.8"
  }
 },
 "nbformat": 4,
 "nbformat_minor": 5
}
