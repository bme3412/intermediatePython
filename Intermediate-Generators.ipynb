{
 "cells": [
  {
   "cell_type": "markdown",
   "id": "544da826-63f3-4a46-bc91-9a0450613f28",
   "metadata": {},
   "source": [
    "### Generators"
   ]
  },
  {
   "cell_type": "markdown",
   "id": "6e26d6bf-07cc-4c5e-a918-294d1d9692bf",
   "metadata": {},
   "source": [
    "#### Using `yield`"
   ]
  },
  {
   "cell_type": "markdown",
   "id": "a9bf2e0f-20d5-4a0a-9987-0d5d237ed2aa",
   "metadata": {},
   "source": [
    "Generators are a simple way of creating iterators. They allow to iterate through a sequence of values lazily, meaning they produce items only when needed. A generator function uses the `yield` keyword rather than `return`"
   ]
  },
  {
   "cell_type": "code",
   "execution_count": 1,
   "id": "228fc2ed-27da-4be5-af74-423d7503acb5",
   "metadata": {},
   "outputs": [],
   "source": [
    "def simple_generator():\n",
    "    yield 1\n",
    "    yield 2\n",
    "    yield 3"
   ]
  },
  {
   "cell_type": "code",
   "execution_count": 3,
   "id": "1375fa8f-66ed-4f2d-8a08-c17c6bf7c072",
   "metadata": {},
   "outputs": [
    {
     "name": "stdout",
     "output_type": "stream",
     "text": [
      "1\n",
      "2\n",
      "3\n"
     ]
    }
   ],
   "source": [
    "# Using the generator\n",
    "gen = simple_generator()\n",
    "print(next(gen))\n",
    "print(next(gen))\n",
    "print(next(gen))"
   ]
  },
  {
   "cell_type": "markdown",
   "id": "26966fa8-5947-45cf-87a3-5fae80c6b508",
   "metadata": {},
   "source": [
    "When `yield` is called, the state of the function is \"frozen\" and can be resumed later"
   ]
  },
  {
   "cell_type": "markdown",
   "id": "6a736093-053c-4e91-be3c-c5066db3f711",
   "metadata": {},
   "source": [
    "#### Generator Expressions"
   ]
  },
  {
   "cell_type": "markdown",
   "id": "09c39a67-fa8e-4343-beb7-9504412931f3",
   "metadata": {},
   "source": [
    "Generator expressions provide a concise way to create generators. They seem to look like list comprehensions, but use parantheses rather than brackets"
   ]
  },
  {
   "cell_type": "code",
   "execution_count": 5,
   "id": "8a10f5aa-f44f-4f19-b7a9-cae9af1ddad7",
   "metadata": {},
   "outputs": [
    {
     "name": "stdout",
     "output_type": "stream",
     "text": [
      "[0, 2, 4, 6, 8]\n"
     ]
    }
   ],
   "source": [
    "# List Comprehension\n",
    "squares_list = [x*2 for x in range(5)]\n",
    "print(squares_list)"
   ]
  },
  {
   "cell_type": "code",
   "execution_count": 7,
   "id": "382bcec3-4f02-4053-a074-f45cb63a1fce",
   "metadata": {},
   "outputs": [
    {
     "name": "stdout",
     "output_type": "stream",
     "text": [
      "0\n",
      "1\n",
      "4\n",
      "9\n",
      "16\n"
     ]
    }
   ],
   "source": [
    "## Generator Expression\n",
    "squares_gen = (x**2 for x in range(5))\n",
    "for square in squares_gen:\n",
    "    print(square)"
   ]
  },
  {
   "cell_type": "markdown",
   "id": "ff330c15-8534-4bc9-83de-aa57503d0e6f",
   "metadata": {},
   "source": [
    "#### Custom Iterators"
   ]
  },
  {
   "cell_type": "markdown",
   "id": "433808a6-7ed9-421b-8bf5-10471a1ff828",
   "metadata": {},
   "source": [
    "To create a custom iterator, need to implement `__iter__` and `__next__`"
   ]
  },
  {
   "cell_type": "code",
   "execution_count": 10,
   "id": "5d3adda1-79ad-4dfd-a5ae-56858b2a9a11",
   "metadata": {},
   "outputs": [],
   "source": [
    "class MyRange:\n",
    "    def __init__(self, start, end):\n",
    "        self.current = start\n",
    "        self.end = end\n",
    "\n",
    "    def __iter__(self):\n",
    "        return self\n",
    "\n",
    "    def __next__(self):\n",
    "        if self.current < self.end:\n",
    "            number = self.current\n",
    "            self.current +=1\n",
    "            return number\n",
    "        else:\n",
    "            raise StopIteration"
   ]
  },
  {
   "cell_type": "code",
   "execution_count": 11,
   "id": "f789659b-650d-4dc1-8c6b-4bde335ce507",
   "metadata": {},
   "outputs": [
    {
     "name": "stdout",
     "output_type": "stream",
     "text": [
      "1\n",
      "2\n",
      "3\n"
     ]
    }
   ],
   "source": [
    "# using the custom iterator\n",
    "my_range = MyRange(1,4)\n",
    "for num in my_range:\n",
    "    print(num)"
   ]
  },
  {
   "cell_type": "markdown",
   "id": "d730338d-60f8-446d-b132-11a7486c6572",
   "metadata": {},
   "source": [
    "The `iter` method returns the iterator object itself and is called once, whereas the `next` method returns the next value and is called repeatedly until `StopIteration` is raised"
   ]
  },
  {
   "cell_type": "markdown",
   "id": "24caefbb-3bdd-4922-ac1d-a14738262afb",
   "metadata": {},
   "source": [
    "#### Combining Generators and Iterators"
   ]
  },
  {
   "cell_type": "code",
   "execution_count": 12,
   "id": "9438f25c-702a-4bca-bf97-8b86a1da8e4b",
   "metadata": {},
   "outputs": [],
   "source": [
    "class Fibonacci:\n",
    "    def __init__(self, max_value):\n",
    "        self.max_value = max_value\n",
    "\n",
    "    def __iter__(self):\n",
    "        self.a, self.b = 0,1\n",
    "        return self\n",
    "\n",
    "    def __next__(self):\n",
    "        if self.a > self.max_value:\n",
    "            raise StopIteration\n",
    "        current = self.a\n",
    "        self.a, self.b = self.b, self.a + self.b\n",
    "        return current"
   ]
  },
  {
   "cell_type": "code",
   "execution_count": 13,
   "id": "37fb1659-5416-43f0-a791-3922193bb7a1",
   "metadata": {},
   "outputs": [
    {
     "name": "stdout",
     "output_type": "stream",
     "text": [
      "0\n",
      "1\n",
      "1\n",
      "2\n",
      "3\n",
      "5\n",
      "8\n"
     ]
    }
   ],
   "source": [
    "# using the Fibnonacci iterator\n",
    "for num in Fibonacci(10):\n",
    "    print(num)"
   ]
  },
  {
   "cell_type": "markdown",
   "id": "9b2d787c-67cf-489c-ae05-61927a6e0365",
   "metadata": {},
   "source": [
    "#### Generating Stock Prices for Analysis"
   ]
  },
  {
   "cell_type": "code",
   "execution_count": 1,
   "id": "923d0a9b-5ce4-403b-bfe7-6b30f8a29cf4",
   "metadata": {},
   "outputs": [
    {
     "name": "stdout",
     "output_type": "stream",
     "text": [
      "AAPL: $150\n",
      "AAPL: $152\n",
      "AAPL: $148\n",
      "AAPL: $155\n",
      "AAPL: $160\n"
     ]
    }
   ],
   "source": [
    "def generate_stock_prices(ticker, prices):\n",
    "    for price in prices:\n",
    "        yield ticker, price\n",
    "\n",
    "ticker = 'AAPL'\n",
    "prices = [150, 152, 148, 155, 160]\n",
    "\n",
    "for ticker, price in generate_stock_prices(ticker, prices):\n",
    "    print(f\"{ticker}: ${price}\")"
   ]
  },
  {
   "cell_type": "markdown",
   "id": "144888a1-5a25-4511-b82c-3aa66096e1d9",
   "metadata": {},
   "source": [
    "#### Streaming real-time data"
   ]
  },
  {
   "cell_type": "code",
   "execution_count": 2,
   "id": "e812be69-c046-4eef-af5c-1e55f3439109",
   "metadata": {},
   "outputs": [
    {
     "name": "stdout",
     "output_type": "stream",
     "text": [
      "GOOGL: $150.29\n",
      "GOOGL: $177.02\n",
      "GOOGL: $156.73\n",
      "GOOGL: $148.07\n",
      "GOOGL: $149.44\n",
      "GOOGL: $191.33\n",
      "GOOGL: $190.04\n",
      "GOOGL: $105.4\n",
      "GOOGL: $179.98\n",
      "GOOGL: $132.8\n",
      "GOOGL: $143.67\n",
      "GOOGL: $111.88\n",
      "GOOGL: $151.29\n",
      "GOOGL: $123.31\n"
     ]
    },
    {
     "ename": "KeyboardInterrupt",
     "evalue": "",
     "output_type": "error",
     "traceback": [
      "\u001b[0;31m---------------------------------------------------------------------------\u001b[0m",
      "\u001b[0;31mKeyboardInterrupt\u001b[0m                         Traceback (most recent call last)",
      "Cell \u001b[0;32mIn[2], line 11\u001b[0m\n\u001b[1;32m      7\u001b[0m         time\u001b[38;5;241m.\u001b[39msleep(\u001b[38;5;241m1\u001b[39m)\n\u001b[1;32m      9\u001b[0m ticker \u001b[38;5;241m=\u001b[39m \u001b[38;5;124m'\u001b[39m\u001b[38;5;124mGOOGL\u001b[39m\u001b[38;5;124m'\u001b[39m\n\u001b[0;32m---> 11\u001b[0m \u001b[38;5;28;01mfor\u001b[39;00m ticker, price \u001b[38;5;129;01min\u001b[39;00m stream_stock_prices(ticker):\n\u001b[1;32m     12\u001b[0m     \u001b[38;5;28mprint\u001b[39m(\u001b[38;5;124mf\u001b[39m\u001b[38;5;124m\"\u001b[39m\u001b[38;5;132;01m{\u001b[39;00mticker\u001b[38;5;132;01m}\u001b[39;00m\u001b[38;5;124m: $\u001b[39m\u001b[38;5;132;01m{\u001b[39;00mprice\u001b[38;5;132;01m}\u001b[39;00m\u001b[38;5;124m\"\u001b[39m)\n",
      "Cell \u001b[0;32mIn[2], line 7\u001b[0m, in \u001b[0;36mstream_stock_prices\u001b[0;34m(ticker)\u001b[0m\n\u001b[1;32m      5\u001b[0m \u001b[38;5;28;01mwhile\u001b[39;00m \u001b[38;5;28;01mTrue\u001b[39;00m:\n\u001b[1;32m      6\u001b[0m     \u001b[38;5;28;01myield\u001b[39;00m ticker, \u001b[38;5;28mround\u001b[39m(random\u001b[38;5;241m.\u001b[39muniform(\u001b[38;5;241m100\u001b[39m, \u001b[38;5;241m200\u001b[39m), \u001b[38;5;241m2\u001b[39m)\n\u001b[0;32m----> 7\u001b[0m     \u001b[43mtime\u001b[49m\u001b[38;5;241;43m.\u001b[39;49m\u001b[43msleep\u001b[49m\u001b[43m(\u001b[49m\u001b[38;5;241;43m1\u001b[39;49m\u001b[43m)\u001b[49m\n",
      "\u001b[0;31mKeyboardInterrupt\u001b[0m: "
     ]
    }
   ],
   "source": [
    "import random\n",
    "import time\n",
    "\n",
    "def stream_stock_prices(ticker):\n",
    "    while True:\n",
    "        yield ticker, round(random.uniform(100, 200), 2)\n",
    "        time.sleep(1)\n",
    "\n",
    "ticker = 'GOOGL'\n",
    "\n",
    "for ticker, price in stream_stock_prices(ticker):\n",
    "    print(f\"{ticker}: ${price}\")"
   ]
  },
  {
   "cell_type": "markdown",
   "id": "5f6d9658-adab-4ee9-bb66-95b8cae4ce6d",
   "metadata": {},
   "source": [
    "#### Filtering stock prices"
   ]
  },
  {
   "cell_type": "code",
   "execution_count": 3,
   "id": "c05fffd2-eca7-40cb-b946-9fb84f0b7ba4",
   "metadata": {},
   "outputs": [
    {
     "name": "stdout",
     "output_type": "stream",
     "text": [
      "MSFT: $220\n",
      "MSFT: $230\n"
     ]
    }
   ],
   "source": [
    "def filter_stock_prices(ticker, prices, threshold):\n",
    "    for price in prices:\n",
    "        if price > threshold:\n",
    "            yield ticker, price\n",
    "\n",
    "ticker = 'MSFT'\n",
    "prices = [210, 215, 220, 205, 230]\n",
    "threshold= 215\n",
    "for ticker, price in filter_stock_prices(ticker, prices, threshold):\n",
    "    print(f\"{ticker}: ${price}\")"
   ]
  },
  {
   "cell_type": "markdown",
   "id": "182a499c-5da7-449e-be49-28315159004a",
   "metadata": {},
   "source": [
    "#### Calculating Moving Averages"
   ]
  },
  {
   "cell_type": "code",
   "execution_count": 4,
   "id": "e3638afa-8708-4443-8182-13e24264ad71",
   "metadata": {},
   "outputs": [
    {
     "name": "stdout",
     "output_type": "stream",
     "text": [
      "TSLA moving average: $650.00\n",
      "TSLA moving average: $660.00\n",
      "TSLA moving average: $663.33\n",
      "TSLA moving average: $670.00\n",
      "TSLA moving average: $676.67\n"
     ]
    }
   ],
   "source": [
    "def moving_average(ticker, prices, window_size):\n",
    "    window = []\n",
    "    for price in prices:\n",
    "        window.append(price)\n",
    "        if len(window) > window_size:\n",
    "            window.pop(0)\n",
    "        if len(window) == window_size:\n",
    "            yield ticker, sum(window) / window_size\n",
    "\n",
    "ticker = 'TSLA'\n",
    "prices = [650, 660, 640, 680,670, 660, 700]\n",
    "window_size=3\n",
    "\n",
    "for ticker, avg in moving_average(ticker, prices, window_size):\n",
    "    print(f\"{ticker} moving average: ${avg:.2f}\")"
   ]
  },
  {
   "cell_type": "markdown",
   "id": "9e033770-41cb-4246-a2b1-6644c5bdade0",
   "metadata": {},
   "source": [
    "#### Alerting for Significant Price Change"
   ]
  },
  {
   "cell_type": "code",
   "execution_count": 6,
   "id": "f34af372-8005-4651-9b14-6fe99c3e4d10",
   "metadata": {},
   "outputs": [
    {
     "name": "stdout",
     "output_type": "stream",
     "text": [
      "Alert for AMZN: $3300 (4.76%) \n",
      "Alert for AMZN: $3400 (3.03%) \n"
     ]
    }
   ],
   "source": [
    "def alert_significant_change(ticker, prices, change_threshold):\n",
    "    previous_price = None\n",
    "    for price in prices:\n",
    "        if previous_price is not None:\n",
    "            change = abs(price - previous_price) / previous_price *100\n",
    "            if change > change_threshold:\n",
    "                yield ticker, price, change\n",
    "        previous_price=price\n",
    "\n",
    "ticker = 'AMZN'\n",
    "prices =[3200, 3210, 3150, 3300, 3400]\n",
    "change_threshold=2.0\n",
    "\n",
    "for ticker, price, change in alert_significant_change(ticker, prices, change_threshold):\n",
    "    print(f\"Alert for {ticker}: ${price} ({change:.2f}%) \")"
   ]
  },
  {
   "cell_type": "code",
   "execution_count": null,
   "id": "0676edcb-9d9f-460d-b4a8-e1902254bc81",
   "metadata": {},
   "outputs": [],
   "source": []
  }
 ],
 "metadata": {
  "kernelspec": {
   "display_name": "Python 3 (ipykernel)",
   "language": "python",
   "name": "python3"
  },
  "language_info": {
   "codemirror_mode": {
    "name": "ipython",
    "version": 3
   },
   "file_extension": ".py",
   "mimetype": "text/x-python",
   "name": "python",
   "nbconvert_exporter": "python",
   "pygments_lexer": "ipython3",
   "version": "3.10.8"
  }
 },
 "nbformat": 4,
 "nbformat_minor": 5
}
